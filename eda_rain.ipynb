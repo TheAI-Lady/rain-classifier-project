{
 "cells": [
  {
   "cell_type": "markdown",
   "metadata": {
    "deletable": false,
    "editable": false,
    "id": "C7hLl0dGJQOW",
    "run_control": {
     "frozen": true
    }
   },
   "source": [
    "**Import The Libraries**"
   ]
  },
  {
   "cell_type": "code",
   "execution_count": 1,
   "metadata": {
    "id": "j4OdBuuXsQlc"
   },
   "outputs": [],
   "source": [
    "import numpy as np\n",
    "import pandas as pd\n",
    "import sqlite3\n",
    "import matplotlib.pyplot as plt\n",
    "import seaborn as sns\n",
    "import sklearn as sk\n",
    "from sklearn.linear_model import LinearRegression"
   ]
  },
  {
   "cell_type": "markdown",
   "metadata": {
    "id": "xmrV5OuGJXhE"
   },
   "source": [
    "**Read Data in Pandas Dataframe**"
   ]
  },
  {
   "cell_type": "code",
   "execution_count": 2,
   "metadata": {
    "colab": {
     "base_uri": "https://localhost:8080/",
     "height": 235
    },
    "id": "r5oIBfTRson0",
    "outputId": "d795007a-5051-4ced-e838-bb379df561f9",
    "scrolled": false
   },
   "outputs": [
    {
     "data": {
      "text/html": [
       "<div>\n",
       "<style scoped>\n",
       "    .dataframe tbody tr th:only-of-type {\n",
       "        vertical-align: middle;\n",
       "    }\n",
       "\n",
       "    .dataframe tbody tr th {\n",
       "        vertical-align: top;\n",
       "    }\n",
       "\n",
       "    .dataframe thead th {\n",
       "        text-align: right;\n",
       "    }\n",
       "</style>\n",
       "<table border=\"1\" class=\"dataframe\">\n",
       "  <thead>\n",
       "    <tr style=\"text-align: right;\">\n",
       "      <th></th>\n",
       "      <th>Date</th>\n",
       "      <th>Location</th>\n",
       "      <th>Rainfall</th>\n",
       "      <th>Evaporation</th>\n",
       "      <th>Sunshine</th>\n",
       "      <th>WindGustDir</th>\n",
       "      <th>WindGustSpeed</th>\n",
       "      <th>WindDir9am</th>\n",
       "      <th>WindDir3pm</th>\n",
       "      <th>WindSpeed9am</th>\n",
       "      <th>...</th>\n",
       "      <th>Humidity9am</th>\n",
       "      <th>Humidity3pm</th>\n",
       "      <th>Pressure9am</th>\n",
       "      <th>Pressure3pm</th>\n",
       "      <th>Cloud9am</th>\n",
       "      <th>Cloud3pm</th>\n",
       "      <th>RainToday</th>\n",
       "      <th>RainTomorrow</th>\n",
       "      <th>ColourOfBoats</th>\n",
       "      <th>AverageTemp</th>\n",
       "    </tr>\n",
       "  </thead>\n",
       "  <tbody>\n",
       "    <tr>\n",
       "      <th>0</th>\n",
       "      <td>8/3/2009</td>\n",
       "      <td>Changi</td>\n",
       "      <td>0.0</td>\n",
       "      <td>7.0</td>\n",
       "      <td>11.2</td>\n",
       "      <td>E</td>\n",
       "      <td>35.0</td>\n",
       "      <td>E</td>\n",
       "      <td>ESE</td>\n",
       "      <td>15.0</td>\n",
       "      <td>...</td>\n",
       "      <td>60.0</td>\n",
       "      <td>54.0</td>\n",
       "      <td>MED</td>\n",
       "      <td>Med</td>\n",
       "      <td>4.0</td>\n",
       "      <td>5.0</td>\n",
       "      <td>No</td>\n",
       "      <td>No</td>\n",
       "      <td>blue</td>\n",
       "      <td>33.4</td>\n",
       "    </tr>\n",
       "    <tr>\n",
       "      <th>1</th>\n",
       "      <td>12/11/2014</td>\n",
       "      <td>Woodlands</td>\n",
       "      <td>0.0</td>\n",
       "      <td>8.4</td>\n",
       "      <td>9.6</td>\n",
       "      <td>WNW</td>\n",
       "      <td>37.0</td>\n",
       "      <td>NNE</td>\n",
       "      <td>NW</td>\n",
       "      <td>13.0</td>\n",
       "      <td>...</td>\n",
       "      <td>60.0</td>\n",
       "      <td>56.0</td>\n",
       "      <td>MeD</td>\n",
       "      <td>LOw</td>\n",
       "      <td>1.0</td>\n",
       "      <td>2.0</td>\n",
       "      <td>NaN</td>\n",
       "      <td>Yes</td>\n",
       "      <td>blue</td>\n",
       "      <td>35.4</td>\n",
       "    </tr>\n",
       "    <tr>\n",
       "      <th>2</th>\n",
       "      <td>8/8/2008</td>\n",
       "      <td>Woodlands</td>\n",
       "      <td>0.0</td>\n",
       "      <td>7.6</td>\n",
       "      <td>11.1</td>\n",
       "      <td>ESE</td>\n",
       "      <td>52.0</td>\n",
       "      <td>SE</td>\n",
       "      <td>E</td>\n",
       "      <td>19.0</td>\n",
       "      <td>...</td>\n",
       "      <td>NaN</td>\n",
       "      <td>13.0</td>\n",
       "      <td>Med</td>\n",
       "      <td>MEd</td>\n",
       "      <td>0.0</td>\n",
       "      <td>0.0</td>\n",
       "      <td>NaN</td>\n",
       "      <td>No</td>\n",
       "      <td>blue</td>\n",
       "      <td>32.8</td>\n",
       "    </tr>\n",
       "    <tr>\n",
       "      <th>3</th>\n",
       "      <td>12/10/2015</td>\n",
       "      <td>Changi</td>\n",
       "      <td>0.0</td>\n",
       "      <td>7.2</td>\n",
       "      <td>11.4</td>\n",
       "      <td>NE</td>\n",
       "      <td>31.0</td>\n",
       "      <td>NNW</td>\n",
       "      <td>NE</td>\n",
       "      <td>9.0</td>\n",
       "      <td>...</td>\n",
       "      <td>51.0</td>\n",
       "      <td>53.0</td>\n",
       "      <td>hIgh</td>\n",
       "      <td>med</td>\n",
       "      <td>1.0</td>\n",
       "      <td>1.0</td>\n",
       "      <td>No</td>\n",
       "      <td>No</td>\n",
       "      <td>red</td>\n",
       "      <td>31.4</td>\n",
       "    </tr>\n",
       "    <tr>\n",
       "      <th>4</th>\n",
       "      <td>27/10/2013</td>\n",
       "      <td>Woodlands</td>\n",
       "      <td>5.6</td>\n",
       "      <td>7.0</td>\n",
       "      <td>8.5</td>\n",
       "      <td>NNW</td>\n",
       "      <td>33.0</td>\n",
       "      <td>N</td>\n",
       "      <td>N</td>\n",
       "      <td>13.0</td>\n",
       "      <td>...</td>\n",
       "      <td>68.0</td>\n",
       "      <td>64.0</td>\n",
       "      <td>meD</td>\n",
       "      <td>MeD</td>\n",
       "      <td>6.0</td>\n",
       "      <td>5.0</td>\n",
       "      <td>NaN</td>\n",
       "      <td>No</td>\n",
       "      <td>grey</td>\n",
       "      <td>35.4</td>\n",
       "    </tr>\n",
       "  </tbody>\n",
       "</table>\n",
       "<p>5 rows × 21 columns</p>\n",
       "</div>"
      ],
      "text/plain": [
       "         Date   Location  Rainfall  Evaporation  Sunshine WindGustDir  \\\n",
       "0    8/3/2009     Changi       0.0          7.0      11.2           E   \n",
       "1  12/11/2014  Woodlands       0.0          8.4       9.6         WNW   \n",
       "2    8/8/2008  Woodlands       0.0          7.6      11.1         ESE   \n",
       "3  12/10/2015     Changi       0.0          7.2      11.4          NE   \n",
       "4  27/10/2013  Woodlands       5.6          7.0       8.5         NNW   \n",
       "\n",
       "   WindGustSpeed WindDir9am WindDir3pm  WindSpeed9am  ...  Humidity9am  \\\n",
       "0           35.0          E        ESE          15.0  ...         60.0   \n",
       "1           37.0        NNE         NW          13.0  ...         60.0   \n",
       "2           52.0         SE          E          19.0  ...          NaN   \n",
       "3           31.0        NNW         NE           9.0  ...         51.0   \n",
       "4           33.0          N          N          13.0  ...         68.0   \n",
       "\n",
       "   Humidity3pm  Pressure9am Pressure3pm Cloud9am  Cloud3pm  RainToday  \\\n",
       "0         54.0          MED         Med      4.0       5.0         No   \n",
       "1         56.0          MeD         LOw      1.0       2.0        NaN   \n",
       "2         13.0          Med         MEd      0.0       0.0        NaN   \n",
       "3         53.0         hIgh         med      1.0       1.0         No   \n",
       "4         64.0          meD         MeD      6.0       5.0        NaN   \n",
       "\n",
       "  RainTomorrow ColourOfBoats AverageTemp  \n",
       "0           No          blue        33.4  \n",
       "1          Yes          blue        35.4  \n",
       "2           No          blue        32.8  \n",
       "3           No           red        31.4  \n",
       "4           No          grey        35.4  \n",
       "\n",
       "[5 rows x 21 columns]"
      ]
     },
     "execution_count": 2,
     "metadata": {},
     "output_type": "execute_result"
    }
   ],
   "source": [
    "#db_path = './data/fishing.db'\n",
    "#conn = sqlite3.connect(db_path)\n",
    "#data = pd.read_sql_query(sql=\"SELECT * FROM fishing\", con=conn)\n",
    "#data.head()\n",
    "\n",
    "data = pd.read_csv('fishing.csv')\n",
    "data = pd.DataFrame(data)\n",
    "data.head()"
   ]
  },
  {
   "cell_type": "code",
   "execution_count": 3,
   "metadata": {
    "colab": {
     "base_uri": "https://localhost:8080/"
    },
    "id": "GqxVZzLYezDr",
    "outputId": "d028edda-a379-46b8-84bf-f9d20d4d94a2"
   },
   "outputs": [
    {
     "data": {
      "text/plain": [
       "(12997, 21)"
      ]
     },
     "execution_count": 3,
     "metadata": {},
     "output_type": "execute_result"
    }
   ],
   "source": [
    "data.shape"
   ]
  },
  {
   "cell_type": "markdown",
   "metadata": {
    "id": "s5e6Epi33KMI"
   },
   "source": [
    "**A) DATA CLEANING**"
   ]
  },
  {
   "cell_type": "markdown",
   "metadata": {
    "id": "ooKW0VGEUwfl"
   },
   "source": [
    "**A.1) Duplicate Rows**"
   ]
  },
  {
   "cell_type": "code",
   "execution_count": 4,
   "metadata": {
    "colab": {
     "base_uri": "https://localhost:8080/"
    },
    "id": "bZYnLrRVUul8",
    "outputId": "d6e1487c-6ab0-470f-e9e3-eb8800342f75"
   },
   "outputs": [
    {
     "name": "stdout",
     "output_type": "stream",
     "text": [
      "Duplicate Rows (excluding first occurrence):\n",
      "             Date   Location  Rainfall  Evaporation  Sunshine WindGustDir  \\\n",
      "244    21/12/2010  Woodlands       2.8          5.6       2.1         WSW   \n",
      "791      6/7/2008       Tuas       6.8          2.4       9.3         NNE   \n",
      "796     17/2/2011     Changi       2.2          3.6       7.0           E   \n",
      "1088    25/5/2015       Tuas       0.0          1.0       8.5          SW   \n",
      "1173     7/8/2012       Tuas       9.6          2.0       7.8          SW   \n",
      "...           ...        ...       ...          ...       ...         ...   \n",
      "12973   26/5/2010     Changi       0.0          1.8       9.3           W   \n",
      "12974   20/9/2015     Changi       0.0          5.6       9.0         SSE   \n",
      "12983   26/3/2015  Woodlands       1.6          5.4       7.3         NNE   \n",
      "12985    7/6/2017     Changi       0.0          5.6      10.0          SW   \n",
      "12994   14/5/2011    Sentosa       8.0          0.8       5.4           S   \n",
      "\n",
      "       WindGustSpeed WindDir9am WindDir3pm  WindSpeed9am  ...  Humidity9am  \\\n",
      "244             39.0          S        NNW          11.0  ...         80.0   \n",
      "791             24.0        ENE         NE           4.0  ...         86.0   \n",
      "796             20.0        SSE          W           4.0  ...         75.0   \n",
      "1088            28.0        SSW         SW           6.0  ...         63.0   \n",
      "1173            44.0        WSW        WSW          15.0  ...         60.0   \n",
      "...              ...        ...        ...           ...  ...          ...   \n",
      "12973           41.0          W        WSW          13.0  ...         63.0   \n",
      "12974           31.0        SSW        SSE           7.0  ...         58.0   \n",
      "12983           46.0         NE        NNE          19.0  ...         80.0   \n",
      "12985           24.0        WSW          W           9.0  ...         46.0   \n",
      "12994           52.0        WSW          S          24.0  ...         87.0   \n",
      "\n",
      "       Humidity3pm  Pressure9am Pressure3pm Cloud9am  Cloud3pm  RainToday  \\\n",
      "244           68.0          Low         loW      7.0       7.0        Yes   \n",
      "791           41.0         HIgh        HIgh      0.0       1.0        NaN   \n",
      "796           80.0          mED         meD      7.0       5.0        NaN   \n",
      "1088          44.0         hIGh        HigH      1.0       1.0         No   \n",
      "1173          52.0          MeD         mED      5.0       3.0        Yes   \n",
      "...            ...          ...         ...      ...       ...        ...   \n",
      "12973         42.0          lOw         loW      1.0       5.0        NaN   \n",
      "12974         60.0          meD         MEd      2.0       5.0         No   \n",
      "12983         67.0          mEd         MED      3.0       7.0        Yes   \n",
      "12985         28.0          mED         mEd      1.0       1.0         No   \n",
      "12994         64.0         HiGH        HIgH      NaN       NaN        Yes   \n",
      "\n",
      "      RainTomorrow ColourOfBoats AverageTemp  \n",
      "244             No           red        34.8  \n",
      "791             No          blue        24.9  \n",
      "796            Yes         white        33.4  \n",
      "1088            No          blue        28.7  \n",
      "1173           Yes           red        28.4  \n",
      "...            ...           ...         ...  \n",
      "12973           No          blue        30.0  \n",
      "12974          Yes          blue        29.9  \n",
      "12983          Yes         white        35.2  \n",
      "12985           No         white        28.2  \n",
      "12994          Yes          grey        26.4  \n",
      "\n",
      "[1182 rows x 21 columns]\n"
     ]
    }
   ],
   "source": [
    "# Check for duplicate rows\n",
    "duplicate_rows = data[data.duplicated()]\n",
    "\n",
    "# Print the result\n",
    "print(\"Duplicate Rows (excluding first occurrence):\")\n",
    "print(duplicate_rows)"
   ]
  },
  {
   "cell_type": "code",
   "execution_count": 5,
   "metadata": {
    "colab": {
     "base_uri": "https://localhost:8080/"
    },
    "id": "rjrolV6eFjEF",
    "outputId": "7bd6b65c-f4ab-489e-de43-7163cf48da75"
   },
   "outputs": [
    {
     "name": "stdout",
     "output_type": "stream",
     "text": [
      "             Date   Location  Rainfall  Evaporation  Sunshine WindGustDir  \\\n",
      "0        8/3/2009     Changi       0.0          7.0      11.2           E   \n",
      "1      12/11/2014  Woodlands       0.0          8.4       9.6         WNW   \n",
      "2        8/8/2008  Woodlands       0.0          7.6      11.1         ESE   \n",
      "3      12/10/2015     Changi       0.0          7.2      11.4          NE   \n",
      "4      27/10/2013  Woodlands       5.6          7.0       8.5         NNW   \n",
      "...           ...        ...       ...          ...       ...         ...   \n",
      "12991   21/8/2011     Changi       3.0          4.4       1.9          SE   \n",
      "12992   12/6/2015       Tuas       0.4          1.6       5.6          SW   \n",
      "12993   29/9/2016     Changi       0.0          7.4       0.6         NNW   \n",
      "12995   14/2/2011    Sentosa       4.4          4.4      12.0           S   \n",
      "12996    4/3/2016     Changi       0.4          8.4      11.1           E   \n",
      "\n",
      "       WindGustSpeed WindDir9am WindDir3pm  WindSpeed9am  ...  Humidity9am  \\\n",
      "0               35.0          E        ESE          15.0  ...         60.0   \n",
      "1               37.0        NNE         NW          13.0  ...         60.0   \n",
      "2               52.0         SE          E          19.0  ...          NaN   \n",
      "3               31.0        NNW         NE           9.0  ...         51.0   \n",
      "4               33.0          N          N          13.0  ...         68.0   \n",
      "...              ...        ...        ...           ...  ...          ...   \n",
      "12991           37.0        SSW         SE           6.0  ...         89.0   \n",
      "12992           28.0        NaN         SW           0.0  ...         92.0   \n",
      "12993           35.0          N        NNW           4.0  ...         57.0   \n",
      "12995           31.0        SSE        SSE          13.0  ...         68.0   \n",
      "12996           33.0        ESE          E           4.0  ...         66.0   \n",
      "\n",
      "       Humidity3pm  Pressure9am Pressure3pm Cloud9am  Cloud3pm  RainToday  \\\n",
      "0             54.0          MED         Med      4.0       5.0         No   \n",
      "1             56.0          MeD         LOw      1.0       2.0        NaN   \n",
      "2             13.0          Med         MEd      0.0       0.0        NaN   \n",
      "3             53.0         hIgh         med      1.0       1.0         No   \n",
      "4             64.0          meD         MeD      6.0       5.0        NaN   \n",
      "...            ...          ...         ...      ...       ...        ...   \n",
      "12991         51.0         HIgh        HigH      8.0       7.0        Yes   \n",
      "12992         66.0          MEd         mED      4.0       3.0         No   \n",
      "12993         48.0          LOw         LoW      7.0       8.0         No   \n",
      "12995         52.0         hiGH        hIgh      5.0       1.0        Yes   \n",
      "12996         44.0          mED         MeD      4.0       2.0         No   \n",
      "\n",
      "      RainTomorrow ColourOfBoats AverageTemp  \n",
      "0               No          blue        33.4  \n",
      "1              Yes          blue        35.4  \n",
      "2               No          blue        32.8  \n",
      "3               No           red        31.4  \n",
      "4               No          grey        35.4  \n",
      "...            ...           ...         ...  \n",
      "12991          Yes           red        29.2  \n",
      "12992           No           red        29.3  \n",
      "12993          Yes         white        31.3  \n",
      "12995           No          blue        30.5  \n",
      "12996           No          blue        33.4  \n",
      "\n",
      "[11815 rows x 21 columns]\n"
     ]
    }
   ],
   "source": [
    "# Remove duplicate rows\n",
    "data = data.drop_duplicates()\n",
    "\n",
    "# Display the data without duplicates\n",
    "print(data)"
   ]
  },
  {
   "cell_type": "code",
   "execution_count": 6,
   "metadata": {
    "colab": {
     "base_uri": "https://localhost:8080/"
    },
    "id": "wGhsqCzQWjLN",
    "outputId": "dcc53c25-6787-4804-89a9-7bef4df6d929"
   },
   "outputs": [
    {
     "data": {
      "text/plain": [
       "(11815, 21)"
      ]
     },
     "execution_count": 6,
     "metadata": {},
     "output_type": "execute_result"
    }
   ],
   "source": [
    "data.shape"
   ]
  },
  {
   "cell_type": "code",
   "execution_count": 7,
   "metadata": {
    "colab": {
     "base_uri": "https://localhost:8080/"
    },
    "id": "Q40PE9AVDNfe",
    "outputId": "e6b41108-07d2-4e1d-c08d-5935f5b173e7"
   },
   "outputs": [
    {
     "data": {
      "text/plain": [
       "Date              object\n",
       "Location          object\n",
       "Rainfall         float64\n",
       "Evaporation      float64\n",
       "Sunshine         float64\n",
       "WindGustDir       object\n",
       "WindGustSpeed    float64\n",
       "WindDir9am        object\n",
       "WindDir3pm        object\n",
       "WindSpeed9am     float64\n",
       "WindSpeed3pm     float64\n",
       "Humidity9am      float64\n",
       "Humidity3pm      float64\n",
       "Pressure9am       object\n",
       "Pressure3pm       object\n",
       "Cloud9am         float64\n",
       "Cloud3pm         float64\n",
       "RainToday         object\n",
       "RainTomorrow      object\n",
       "ColourOfBoats     object\n",
       "AverageTemp      float64\n",
       "dtype: object"
      ]
     },
     "execution_count": 7,
     "metadata": {},
     "output_type": "execute_result"
    }
   ],
   "source": [
    "data.dtypes"
   ]
  },
  {
   "cell_type": "markdown",
   "metadata": {
    "id": "eBII5fejJs5H"
   },
   "source": [
    "**Identifying numerical, discrete and continuous features**"
   ]
  },
  {
   "cell_type": "code",
   "execution_count": 8,
   "metadata": {
    "colab": {
     "base_uri": "https://localhost:8080/"
    },
    "id": "sZUSQJnqEGVC",
    "outputId": "958c1111-c9a1-4ef9-cb95-0269effafbc7"
   },
   "outputs": [
    {
     "name": "stdout",
     "output_type": "stream",
     "text": [
      "Numerical Features: ['Rainfall', 'Evaporation', 'Sunshine', 'WindGustSpeed', 'WindSpeed9am', 'WindSpeed3pm', 'Humidity9am', 'Humidity3pm', 'Cloud9am', 'Cloud3pm', 'AverageTemp']\n",
      "Discrete Features: ['Cloud9am', 'Cloud3pm']\n",
      "Continuous Features: ['WindGustSpeed', 'Sunshine', 'Evaporation', 'Rainfall', 'WindSpeed3pm', 'Humidity9am', 'Humidity3pm', 'AverageTemp', 'WindSpeed9am']\n"
     ]
    }
   ],
   "source": [
    "# identify numerical features\n",
    "num_feats = data.select_dtypes(include=['float64']).columns.tolist()\n",
    "\n",
    "# identify discrete features\n",
    "discrete_feats = []\n",
    "for feat in num_feats:\n",
    "    if data[feat].nunique() < 10:\n",
    "        discrete_feats.append(feat)\n",
    "\n",
    "# identify continuous features\n",
    "continuous_feats = list(set(num_feats) - set(discrete_feats))\n",
    "\n",
    "print(\"Numerical Features:\", num_feats)\n",
    "print(\"Discrete Features:\", discrete_feats)\n",
    "print(\"Continuous Features:\", continuous_feats)"
   ]
  },
  {
   "cell_type": "markdown",
   "metadata": {
    "id": "K5VpbmfMCFmd"
   },
   "source": [
    "**A.2) Invalid Data**\n",
    "\n",
    "**Check for invalid data for categorical and discrete column**"
   ]
  },
  {
   "cell_type": "code",
   "execution_count": 9,
   "metadata": {
    "colab": {
     "base_uri": "https://localhost:8080/"
    },
    "id": "eihQ7fuA5eVL",
    "outputId": "887ea439-438a-43a5-d4d2-af7ab762f68f"
   },
   "outputs": [
    {
     "name": "stdout",
     "output_type": "stream",
     "text": [
      "Categories for WindGustDir:\n",
      " - E\n",
      " - WSW\n",
      " - NNW\n",
      " - S\n",
      " - NW\n",
      " - NNE\n",
      " - SE\n",
      " - SSE\n",
      " - NE\n",
      " - EW\n",
      " - N\n",
      " - SW\n",
      " - NS\n",
      " - W\n",
      " - ESE\n",
      " - WNW\n",
      " - SSW\n",
      " - ENE\n",
      "\n",
      "Categories for WindDir9am:\n",
      " - E\n",
      " - WSW\n",
      " - NNW\n",
      " - NNE\n",
      " - S\n",
      " - NW\n",
      " - SE\n",
      " - SSE\n",
      " - NE\n",
      " - N\n",
      " - SW\n",
      " - W\n",
      " - ESE\n",
      " - WNW\n",
      " - SSW\n",
      " - ENE\n",
      "\n",
      "Categories for WindDir3pm:\n",
      " - E\n",
      " - WSW\n",
      " - NNW\n",
      " - NW\n",
      " - NNE\n",
      " - S\n",
      " - SE\n",
      " - SSE\n",
      " - NE\n",
      " - N\n",
      " - SW\n",
      " - W\n",
      " - ESE\n",
      " - WNW\n",
      " - SSW\n",
      " - ENE\n",
      "\n",
      "Categories for Pressure9am:\n",
      " - med\n",
      " - lOW\n",
      " - HIgH\n",
      " - low\n",
      " - LOw\n",
      " - High\n",
      " - HiGh\n",
      " - hiGh\n",
      " - higH\n",
      " - MEd\n",
      " - meD\n",
      " - LOW\n",
      " - high\n",
      " - lOw\n",
      " - HigH\n",
      " - hIGH\n",
      " - mEd\n",
      " - HiGH\n",
      " - hIgh\n",
      " - hIgH\n",
      " - hIGh\n",
      " - LoW\n",
      " - HIGH\n",
      " - MeD\n",
      " - HIgh\n",
      " - HIGh\n",
      " - mED\n",
      " - loW\n",
      " - Med\n",
      " - MED\n",
      " - Low\n",
      " - hiGH\n",
      "\n",
      "Categories for Pressure3pm:\n",
      " - med\n",
      " - lOW\n",
      " - HIgH\n",
      " - low\n",
      " - LOw\n",
      " - High\n",
      " - HiGh\n",
      " - hiGh\n",
      " - higH\n",
      " - MEd\n",
      " - meD\n",
      " - LOW\n",
      " - high\n",
      " - lOw\n",
      " - HigH\n",
      " - hIGH\n",
      " - HiGH\n",
      " - mEd\n",
      " - hIgH\n",
      " - LoW\n",
      " - hIgh\n",
      " - hIGh\n",
      " - HIGH\n",
      " - MeD\n",
      " - HIgh\n",
      " - HIGh\n",
      " - mED\n",
      " - loW\n",
      " - Med\n",
      " - MED\n",
      " - Low\n",
      " - hiGH\n",
      "\n",
      "Categories for Cloud9am:\n",
      " - 0.0\n",
      " - 1.0\n",
      " - 2.0\n",
      " - 3.0\n",
      " - 4.0\n",
      " - 5.0\n",
      " - 6.0\n",
      " - 7.0\n",
      " - 8.0\n",
      "\n",
      "Categories for Cloud3pm:\n",
      " - 0.0\n",
      " - 1.0\n",
      " - 2.0\n",
      " - 3.0\n",
      " - 4.0\n",
      " - 5.0\n",
      " - 6.0\n",
      " - 7.0\n",
      " - 8.0\n",
      "\n"
     ]
    }
   ],
   "source": [
    "# To display the labels in each categorical and discrete columns\n",
    "column_names = [\n",
    "    'WindGustDir', 'WindDir9am', 'WindDir3pm', 'Pressure9am', 'Pressure3pm', 'Cloud9am', 'Cloud3pm'\n",
    "]\n",
    "    \n",
    "for column in column_names:\n",
    "    categories = set(data[column].dropna())\n",
    "    print(f\"Categories for {column}:\")\n",
    "    for category in categories:\n",
    "        print(f\" - {category}\")\n",
    "    print()\n"
   ]
  },
  {
   "cell_type": "markdown",
   "metadata": {
    "id": "yGg3TzoH4wqP"
   },
   "source": [
    "**Change Pressure Data columns To Uppercase for consistency**"
   ]
  },
  {
   "cell_type": "code",
   "execution_count": 10,
   "metadata": {
    "id": "nPIJGrx24Tzc"
   },
   "outputs": [],
   "source": [
    "data['Pressure9am'] = data['Pressure9am'].str.upper()\n",
    "data['Pressure3pm'] = data['Pressure3pm'].str.upper()\n"
   ]
  },
  {
   "cell_type": "markdown",
   "metadata": {
    "id": "vZ412lR_xLwf"
   },
   "source": [
    "There are negative values for the sunshine hours, indicating erroneous data.\n",
    "\n",
    "To address this issue, we will convert the sunshine values to their absolute values. This will ensure that all the values in the 'Sunshine' column are positive, rectifying the erroneous data."
   ]
  },
  {
   "cell_type": "code",
   "execution_count": 11,
   "metadata": {
    "id": "76UjbNbO3sQ5"
   },
   "outputs": [],
   "source": [
    "# Convert the negative value in the Sunshine column to positive\n",
    "data['Sunshine'] = data['Sunshine'].abs()"
   ]
  },
  {
   "cell_type": "markdown",
   "metadata": {
    "id": "7TAMjimSSWTL"
   },
   "source": [
    "**A.3) Missing Data**"
   ]
  },
  {
   "cell_type": "code",
   "execution_count": 12,
   "metadata": {
    "colab": {
     "base_uri": "https://localhost:8080/"
    },
    "id": "UXMuT7tQIoxm",
    "outputId": "1679d936-ff09-4af4-b815-bb37c8b14f2f"
   },
   "outputs": [
    {
     "name": "stdout",
     "output_type": "stream",
     "text": [
      "Date                0\n",
      "Location            0\n",
      "Rainfall            0\n",
      "Evaporation        74\n",
      "Sunshine           57\n",
      "WindGustDir        75\n",
      "WindGustSpeed      72\n",
      "WindDir9am        265\n",
      "WindDir3pm         47\n",
      "WindSpeed9am        4\n",
      "WindSpeed3pm        5\n",
      "Humidity9am        14\n",
      "Humidity3pm        25\n",
      "Pressure9am         2\n",
      "Pressure3pm         7\n",
      "Cloud9am          277\n",
      "Cloud3pm          342\n",
      "RainToday        2903\n",
      "RainTomorrow        0\n",
      "ColourOfBoats       0\n",
      "AverageTemp         8\n",
      "dtype: int64\n"
     ]
    }
   ],
   "source": [
    "# Count missing data for each column\n",
    "missing_data_count = data.isnull().sum()\n",
    "\n",
    "# Print the count of missing data for each column\n",
    "print(missing_data_count)"
   ]
  },
  {
   "cell_type": "markdown",
   "metadata": {
    "id": "NVXuhjUWKdMC"
   },
   "source": [
    "The total count of missing data above is 3,311, which is approximately 28.01% of the total data count.\n",
    "\n",
    "Fill the missing data with the mean or median, depending on the distribution curve, or mode if it is discrete data.\n",
    "\n",
    "RainToday column can be removed since it is a function of the Rainfall column. RainToday Column also makes up the bulk of the missing data. "
   ]
  },
  {
   "cell_type": "markdown",
   "metadata": {
    "id": "QH9PjpW-FDb6"
   },
   "source": [
    "**A.4) Determine number of outliers**\n",
    "\n"
   ]
  },
  {
   "cell_type": "code",
   "execution_count": 13,
   "metadata": {
    "colab": {
     "base_uri": "https://localhost:8080/"
    },
    "id": "navJENdmApVD",
    "outputId": "63257217-f846-4132-9dc9-5d0857df8860"
   },
   "outputs": [
    {
     "name": "stdout",
     "output_type": "stream",
     "text": [
      "WindGustSpeed: 383 outliers\n",
      "WindSpeed3pm: 314 outliers\n",
      "Sunshine: 0 outliers\n",
      "Evaporation: 103 outliers\n",
      "Humidity9am: 127 outliers\n",
      "Humidity3pm: 139 outliers\n",
      "Rainfall: 2333 outliers\n",
      "WindSpeed9am: 333 outliers\n",
      "AverageTemp: 0 outliers\n",
      "Cloud3pm: 0 outliers\n",
      "Cloud9am: 0 outliers\n"
     ]
    }
   ],
   "source": [
    "# List of numeric column names\n",
    "column_names = [\n",
    "    'WindGustSpeed', 'WindSpeed3pm', 'Sunshine', 'Evaporation', 'Humidity9am','Humidity3pm', 'Rainfall', 'WindSpeed9am', 'AverageTemp', 'Cloud3pm', 'Cloud9am'\n",
    "]\n",
    "\n",
    "# Function to count outliers using the IQR method\n",
    "def count_outliers(series):\n",
    "    q1 = series.quantile(0.25)\n",
    "    q3 = series.quantile(0.75)\n",
    "    iqr = q3 - q1\n",
    "    lower_bound = q1 - 1.5 * iqr\n",
    "    upper_bound = q3 + 1.5 * iqr\n",
    "    return ((series < lower_bound) | (series > upper_bound)).sum()\n",
    "\n",
    "# Count the number of outliers for each column\n",
    "outliers_counts = {}\n",
    "for column in column_names:\n",
    "    if data[column].dtype in ['int64', 'float64']:  # Check if the column contains numerical data\n",
    "        # outliers_count = count_outliers(data[column].dropna())  # Count outliers without missing values\n",
    "        outliers_count = count_outliers(data[column])\n",
    "        outliers_counts[column] = outliers_count\n",
    "\n",
    "# Print the number of outliers for each column\n",
    "for column, count in outliers_counts.items():\n",
    "    print(f\"{column}: {count} outliers\")"
   ]
  },
  {
   "cell_type": "markdown",
   "metadata": {
    "id": "8XIkFQHnERzs"
   },
   "source": [
    "Based on the outlier count above for each of the numerical data columns, the total number of outliers is more than 30% of the dataset.\n",
    "\n",
    "This is significant; thus, we will not remove the outliers.\n",
    "\n",
    "\n"
   ]
  },
  {
   "cell_type": "markdown",
   "metadata": {},
   "source": [
    "**A.5) Summary Statistics**"
   ]
  },
  {
   "cell_type": "code",
   "execution_count": 14,
   "metadata": {},
   "outputs": [
    {
     "name": "stdout",
     "output_type": "stream",
     "text": [
      "           Rainfall   Evaporation      Sunshine  WindGustSpeed  WindSpeed9am  \\\n",
      "count  11815.000000  11741.000000  11758.000000   11743.000000  11811.000000   \n",
      "mean       3.086669      5.557457      8.077190      36.664311     12.467361   \n",
      "std       11.173648      2.901247      3.629437      12.631501      8.325970   \n",
      "min        0.000000      0.000000      0.000000       9.000000      0.000000   \n",
      "25%        0.000000      3.400000      5.700000      28.000000      7.000000   \n",
      "50%        0.000000      5.400000      9.200000      35.000000     11.000000   \n",
      "75%        0.800000      7.400000     10.800000      43.000000     17.000000   \n",
      "max      367.600000     44.000000     13.900000     126.000000     65.000000   \n",
      "\n",
      "       WindSpeed3pm   Humidity9am   Humidity3pm      Cloud9am      Cloud3pm  \\\n",
      "count  11810.000000  11801.000000  11790.000000  11538.000000  11473.000000   \n",
      "mean      16.700931     65.489196     50.851145      4.122032      4.129434   \n",
      "std        7.870736     15.451693     16.889701      2.729144      2.648135   \n",
      "min        0.000000     11.000000      5.000000      0.000000      0.000000   \n",
      "25%       11.000000     56.000000     40.000000      1.000000      1.000000   \n",
      "50%       15.000000     66.000000     51.000000      4.000000      4.000000   \n",
      "75%       20.000000     76.000000     61.000000      7.000000      7.000000   \n",
      "max       76.000000    100.000000    100.000000      8.000000      8.000000   \n",
      "\n",
      "        AverageTemp  \n",
      "count  11807.000000  \n",
      "mean      31.523664  \n",
      "std        2.958295  \n",
      "min       24.300000  \n",
      "25%       29.100000  \n",
      "50%       31.700000  \n",
      "75%       34.200000  \n",
      "max       38.500000  \n"
     ]
    }
   ],
   "source": [
    "# Get summary statistics for each numerical column\n",
    "summary_statistics = data.describe()\n",
    "\n",
    "# Print summary statistics\n",
    "print(summary_statistics)\n"
   ]
  },
  {
   "cell_type": "code",
   "execution_count": 15,
   "metadata": {
    "colab": {
     "base_uri": "https://localhost:8080/",
     "height": 943
    },
    "id": "_ityvmgGIcj8",
    "outputId": "ecb9b18c-c52d-41d4-94d3-fc35b352aa22"
   },
   "outputs": [
    {
     "data": {
      "image/png": "[encoded data removed]",
      "text/plain": [
       "<Figure size 432x288 with 1 Axes>"
      ]
     },
     "metadata": {
      "needs_background": "light"
     },
     "output_type": "display_data"
    },
    {
     "data": {
      "image/png": "[encoded data removed]",
      "text/plain": [
       "<Figure size 432x288 with 1 Axes>"
      ]
     },
     "metadata": {
      "needs_background": "light"
     },
     "output_type": "display_data"
    }
   ],
   "source": [
    "# Create bar plot for each discrete feature\n",
    "for feat in discrete_feats:\n",
    "    plt.figure()\n",
    "    data[feat].value_counts().plot(kind='bar')\n",
    "    plt.title(feat)\n",
    "    plt.xlabel('Value')\n",
    "    plt.ylabel('Count')\n",
    "\n",
    "plt.show()"
   ]
  },
  {
   "cell_type": "markdown",
   "metadata": {},
   "source": [
    "As Column [Cloud9am] and [Cloud3pm] is skewed, median would be used to fill the missing values.Median is less sensitive to extreme values and may provide a better central tendency measure for skewed data."
   ]
  },
  {
   "cell_type": "code",
   "execution_count": 16,
   "metadata": {},
   "outputs": [],
   "source": [
    "data['Cloud9am'].fillna(data['Cloud9am'].median(), inplace=True)\n",
    "data['Cloud3pm'].fillna(data['Cloud3pm'].median(), inplace=True)"
   ]
  },
  {
   "cell_type": "code",
   "execution_count": 17,
   "metadata": {
    "colab": {
     "base_uri": "https://localhost:8080/",
     "height": 1000
    },
    "id": "TwTYAg6oI4Ug",
    "outputId": "1816d52d-2c1a-480a-9965-3f2cd2ef2021"
   },
   "outputs": [
    {
     "data": {
      "image/png": "[encoded data removed]",
      "text/plain": [
       "<Figure size 432x288 with 1 Axes>"
      ]
     },
     "metadata": {
      "needs_background": "light"
     },
     "output_type": "display_data"
    },
    {
     "data": {
      "image/png": "[encoded data removed]",
      "text/plain": [
       "<Figure size 432x288 with 1 Axes>"
      ]
     },
     "metadata": {
      "needs_background": "light"
     },
     "output_type": "display_data"
    },
    {
     "data": {
      "image/png": "[encoded data removed]",
      "text/plain": [
       "<Figure size 432x288 with 1 Axes>"
      ]
     },
     "metadata": {
      "needs_background": "light"
     },
     "output_type": "display_data"
    },
    {
     "data": {
      "image/png": "[encoded data removed]",
      "text/plain": [
       "<Figure size 432x288 with 1 Axes>"
      ]
     },
     "metadata": {
      "needs_background": "light"
     },
     "output_type": "display_data"
    },
    {
     "data": {
      "image/png": "[encoded data removed]",
      "text/plain": [
       "<Figure size 432x288 with 1 Axes>"
      ]
     },
     "metadata": {
      "needs_background": "light"
     },
     "output_type": "display_data"
    },
    {
     "data": {
      "image/png": "[encoded data removed]",
      "text/plain": [
       "<Figure size 432x288 with 1 Axes>"
      ]
     },
     "metadata": {
      "needs_background": "light"
     },
     "output_type": "display_data"
    },
    {
     "data": {
      "image/png": "[encoded data removed]",
      "text/plain": [
       "<Figure size 432x288 with 1 Axes>"
      ]
     },
     "metadata": {
      "needs_background": "light"
     },
     "output_type": "display_data"
    },
    {
     "data": {
      "image/png": "[encoded data removed]",
      "text/plain": [
       "<Figure size 432x288 with 1 Axes>"
      ]
     },
     "metadata": {
      "needs_background": "light"
     },
     "output_type": "display_data"
    },
    {
     "data": {
      "image/png": "[encoded data removed]",
      "text/plain": [
       "<Figure size 432x288 with 1 Axes>"
      ]
     },
     "metadata": {
      "needs_background": "light"
     },
     "output_type": "display_data"
    }
   ],
   "source": [
    "# Create histogram for each continuous feature\n",
    "for feat in continuous_feats:\n",
    "    plt.figure()\n",
    "    plt.hist(data[feat], bins=20)\n",
    "    plt.title(feat)\n",
    "    plt.xlabel('Value')\n",
    "    plt.ylabel('Count')\n",
    "\n",
    "plt.show()"
   ]
  },
  {
   "cell_type": "markdown",
   "metadata": {
    "id": "FThgge_KDe9x"
   },
   "source": [
    "Fill column [AverageTemp] with mean as it's normal distributed and has no outliers."
   ]
  },
  {
   "cell_type": "code",
   "execution_count": 18,
   "metadata": {},
   "outputs": [],
   "source": [
    "# Calculate the mean of AverageTemp and fill missing data with the mean value.\n",
    "col_mean = int(data['AverageTemp'].mean())\n",
    "data['AverageTemp'].fillna(col_mean, inplace=True)"
   ]
  },
  {
   "cell_type": "markdown",
   "metadata": {
    "id": "XfoYsPndC9EN"
   },
   "source": [
    "Fill columns [WindGustSpeed],[WindSpeed9am], [WindSpeed3pm], [Sunshine], [Evaporation], [Humidity9am],[Humidity3pm], [Rainfall]) missing data with median. Median is used because the distibution shown above is skewed and there are number of outliers."
   ]
  },
  {
   "cell_type": "code",
   "execution_count": 19,
   "metadata": {},
   "outputs": [],
   "source": [
    "# List of specified column names containing continuous numerical data with missing values.\n",
    "column_names = [\n",
    "  'WindGustSpeed','WindSpeed9am', 'WindSpeed3pm', 'Sunshine', 'Evaporation', 'Humidity9am','Humidity3pm', 'Rainfall']\n",
    "\n",
    "# Calculate the median and fill missing values for each column\n",
    "for column in column_names:\n",
    "    if data[column].dtype in ['int64', 'float64']:  # Check if the column contains numerical data\n",
    "        col_median = round(data[column].median(), 1)  # Calculate the median and round to one decimal place\n",
    "        data[column].fillna(col_median, inplace=True)\n"
   ]
  },
  {
   "cell_type": "markdown",
   "metadata": {
    "id": "OPrbM4FLDu2C"
   },
   "source": [
    "As column [WindGustDir] , [WindDir9am], [WindDir3pm], [Pressure9am], and [Pressure3pm] are categorical variables. Mode would be used to fill the missing data."
   ]
  },
  {
   "cell_type": "code",
   "execution_count": 20,
   "metadata": {
    "id": "kpa1e8lmFAFJ"
   },
   "outputs": [],
   "source": [
    "# List of specified column names of categorical data with missing values.\n",
    "column_names = [\n",
    "    'WindGustDir', 'WindDir3pm', 'WindDir9am', 'Pressure3pm', 'Pressure9am']\n",
    "\n",
    "# Calculate the mode and fill missing values for each column\n",
    "for column in column_names:\n",
    "    col_mode = data[column].mode()\n",
    "    data[column].fillna(col_mode, inplace=True)\n"
   ]
  },
  {
   "cell_type": "markdown",
   "metadata": {
    "id": "nYWo0Wk_LZFo"
   },
   "source": [
    "Column [Sunshine] and [Cloud3pm] has a a correlation of (-0.71) which indicates a relatively strong negative linear relationship between two variables.\n",
    "\n",
    "WindGustSpeed is positively correlated with WindSpeed9am (0.69) and WindSpeed3pm (0.72)."
   ]
  },
  {
   "cell_type": "markdown",
   "metadata": {
    "id": "J-BoQOJVE6vo"
   },
   "source": [
    "**A.6) Correlation Analysis**\n"
   ]
  },
  {
   "cell_type": "code",
   "execution_count": 21,
   "metadata": {
    "colab": {
     "base_uri": "https://localhost:8080/",
     "height": 1000
    },
    "id": "3TIYRvgS84K7",
    "outputId": "2127047a-38b3-4ca1-acb9-12ed008a802c"
   },
   "outputs": [
    {
     "data": {
      "image/png": "[encoded data removed]",
      "text/plain": [
       "<Figure size 1080x864 with 2 Axes>"
      ]
     },
     "metadata": {
      "needs_background": "light"
     },
     "output_type": "display_data"
    }
   ],
   "source": [
    "import numpy as np\n",
    "import matplotlib.pyplot as plt\n",
    "import seaborn as sns\n",
    "\n",
    "# Compute the correlation matrix for all columns\n",
    "corr = data.corr()\n",
    "\n",
    "# Generate a mask for the upper triangle\n",
    "mask = np.triu(np.ones_like(corr, dtype=bool))\n",
    "\n",
    "# Set up the matplotlib figure\n",
    "plt.figure(figsize=(15, 12))\n",
    "\n",
    "# Generate a custom diverging colormap\n",
    "cmap = sns.diverging_palette(230, 20, as_cmap=True)\n",
    "\n",
    "# Draw the heatmap with the mask and correct aspect ratio\n",
    "sns.heatmap(corr, mask=mask, cmap=cmap, center=0, square=True, linewidths=.5, cbar_kws={\"shrink\": .5}, annot=True)\n",
    "\n",
    "plt.show()\n",
    "\n"
   ]
  },
  {
   "cell_type": "markdown",
   "metadata": {},
   "source": [
    "**A.7) Extract Year, Month, and Day Features from 'Date'**"
   ]
  },
  {
   "cell_type": "code",
   "execution_count": 22,
   "metadata": {},
   "outputs": [],
   "source": [
    "# Convert 'Date' to datetime format and extract year, month, and day\n",
    "data['Date'] = pd.to_datetime(data['Date'], format='%d/%m/%Y', infer_datetime_format=True)\n",
    "data['Year'] = data['Date'].dt.year\n",
    "data['Month'] = data['Date'].dt.month\n",
    "data['Day'] = data['Date'].dt.day"
   ]
  },
  {
   "cell_type": "markdown",
   "metadata": {},
   "source": [
    "**A.8) Create a new column 'RainTomorrow_MM'**"
   ]
  },
  {
   "cell_type": "code",
   "execution_count": 23,
   "metadata": {},
   "outputs": [],
   "source": [
    "# Shift the 'Rainfall' column by one day\n",
    "data['RainTomorrow_MM'] = data['Rainfall'].shift(-1)\n",
    "\n",
    "# Convert to binary indicating whether there's more than 1.0 mm of rain\n",
    "data['RainTomorrow_MM'] = (data['RainTomorrow_MM'] > 1.0).astype(int)\n",
    "\n",
    "# Drop the last row because it will have a missing value in 'RainTomorrow_MM'\n",
    "data = data.iloc[:-1]\n",
    "\n",
    "# Save DataFrame to CSV\n",
    "data.to_csv('data_new_column.csv', index=False)\n",
    "\n"
   ]
  },
  {
   "cell_type": "markdown",
   "metadata": {},
   "source": [
    "**A.9) Grouping Similar Cloud Values**\n"
   ]
  },
  {
   "cell_type": "code",
   "execution_count": 24,
   "metadata": {},
   "outputs": [],
   "source": [
    "# Binning the \"Cloud9am\" column\n",
    "bins = [-1, 2, 5, 7, 8]  # The bins we'll use\n",
    "labels = ['Clear', 'Partly Cloudy', 'Cloudy', 'Overcast']  # Corresponding labels for the bins\n",
    "data['Cloud9am_Binned'] = pd.cut(data['Cloud9am'], bins=bins, labels=labels, right=True)\n",
    "\n",
    "# Binning the \"Cloud3pm\" column\n",
    "bins = [-1, 2, 5, 7, 8]  # The bins we'll use\n",
    "labels = ['Clear', 'Partly Cloudy', 'Cloudy', 'Overcast']  # Corresponding labels for the bins\n",
    "data['Cloud3pm_Binned'] = pd.cut(data['Cloud3pm'], bins=bins, labels=labels, right=True)\n"
   ]
  },
  {
   "cell_type": "markdown",
   "metadata": {
    "id": "CsRI8iZ4Jo_z"
   },
   "source": [
    "**A.10) Drop Unnecessary Columns in the Dataset**\n",
    "\n",
    "We can drop the \"Date\" column since we have already extracted the Year, Month, and Day information.\n",
    "\n",
    "The \"ColourOfBoats\" column can be removed as it is irrelevant for predicting rain tomorrow.\n",
    "\n",
    "The \"RainToday\" column is redundant as it can be defined by the \"Rainfall\" column. Rain is considered present when the rainfall is greater than or equal to 1.0 and absent when it is less than 1.0.\n",
    "\n",
    "Based on the correlation analysis, we will drop the \"Sunshine\" column as it has a strong negative correlation of -0.71 with the \"Cloud3pm\" column. Similarly, the \"WindGustSpeed\" column will be dropped as it has a positive correlation with the \"WindSpeed3pm\" column.\n"
   ]
  },
  {
   "cell_type": "code",
   "execution_count": 25,
   "metadata": {
    "id": "uqH52qu-d2Ic"
   },
   "outputs": [],
   "source": [
    "# Data Selection\n",
    "X = data.loc[:, ['Location', 'Rainfall', 'Evaporation',\n",
    "       'WindGustDir', 'WindDir9am', 'WindDir3pm',\n",
    "       'WindSpeed9am', 'WindSpeed3pm', 'Humidity9am', 'Humidity3pm',\n",
    "       'Pressure9am', 'Pressure3pm', 'Cloud9am_Binned', 'Cloud3pm_Binned',\n",
    "       'AverageTemp', 'Year', 'Month', 'Day']]\n",
    "Y = data['RainTomorrow_MM']"
   ]
  },
  {
   "cell_type": "code",
   "execution_count": 26,
   "metadata": {},
   "outputs": [
    {
     "name": "stdout",
     "output_type": "stream",
     "text": [
      "        Location  Rainfall  Evaporation WindGustDir WindDir9am WindDir3pm  \\\n",
      "0         Changi       0.0          7.0           E          E        ESE   \n",
      "1      Woodlands       0.0          8.4         WNW        NNE         NW   \n",
      "2      Woodlands       0.0          7.6         ESE         SE          E   \n",
      "3         Changi       0.0          7.2          NE        NNW         NE   \n",
      "4      Woodlands       5.6          7.0         NNW          N          N   \n",
      "...          ...       ...          ...         ...        ...        ...   \n",
      "12990       Tuas       0.0          4.0         NNW        NNE        WNW   \n",
      "12991     Changi       3.0          4.4          SE        SSW         SE   \n",
      "12992       Tuas       0.4          1.6          SW        NaN         SW   \n",
      "12993     Changi       0.0          7.4         NNW          N        NNW   \n",
      "12995    Sentosa       4.4          4.4           S        SSE        SSE   \n",
      "\n",
      "       WindSpeed9am  WindSpeed3pm  Humidity9am  Humidity3pm Pressure9am  \\\n",
      "0              15.0          19.0         60.0         54.0         MED   \n",
      "1              13.0          28.0         60.0         56.0         MED   \n",
      "2              19.0          19.0         66.0         13.0         MED   \n",
      "3               9.0          13.0         51.0         53.0        HIGH   \n",
      "4              13.0          19.0         68.0         64.0         MED   \n",
      "...             ...           ...          ...          ...         ...   \n",
      "12990          13.0          17.0         65.0         47.0         MED   \n",
      "12991           6.0          17.0         89.0         51.0        HIGH   \n",
      "12992           0.0          13.0         92.0         66.0         MED   \n",
      "12993           4.0           9.0         57.0         48.0         LOW   \n",
      "12995          13.0           9.0         68.0         52.0        HIGH   \n",
      "\n",
      "      Pressure3pm Cloud9am_Binned Cloud3pm_Binned  AverageTemp  Year  Month  \\\n",
      "0             MED   Partly Cloudy   Partly Cloudy         33.4  2009      3   \n",
      "1             LOW           Clear           Clear         35.4  2014     11   \n",
      "2             MED           Clear           Clear         32.8  2008      8   \n",
      "3             MED           Clear           Clear         31.4  2015     10   \n",
      "4             MED          Cloudy   Partly Cloudy         35.4  2013     10   \n",
      "...           ...             ...             ...          ...   ...    ...   \n",
      "12990         MED   Partly Cloudy           Clear         29.4  2014      9   \n",
      "12991        HIGH        Overcast          Cloudy         29.2  2011      8   \n",
      "12992         MED   Partly Cloudy   Partly Cloudy         29.3  2015      6   \n",
      "12993         LOW          Cloudy        Overcast         31.3  2016      9   \n",
      "12995        HIGH   Partly Cloudy           Clear         30.5  2011      2   \n",
      "\n",
      "       Day  \n",
      "0        8  \n",
      "1       12  \n",
      "2        8  \n",
      "3       12  \n",
      "4       27  \n",
      "...    ...  \n",
      "12990   26  \n",
      "12991   21  \n",
      "12992   12  \n",
      "12993   29  \n",
      "12995   14  \n",
      "\n",
      "[11814 rows x 18 columns]\n"
     ]
    }
   ],
   "source": [
    "print (X) "
   ]
  },
  {
   "cell_type": "code",
   "execution_count": 27,
   "metadata": {
    "colab": {
     "base_uri": "https://localhost:8080/"
    },
    "id": "OVXyNW2Xd4fa",
    "outputId": "6176261a-baa9-4edf-9d11-cc929f760a15"
   },
   "outputs": [],
   "source": [
    "from sklearn.impute import SimpleImputer\n",
    "\n",
    "# Impute Missing Values\n",
    "imputer = SimpleImputer(missing_values=np.nan,strategy='most_frequent')\n",
    "X = pd.DataFrame(imputer.fit_transform(X), columns=X.columns)\n",
    "Y = pd.DataFrame(imputer.fit_transform(Y.values.reshape(-1, 1)), columns=['RainTomorrow_MM'])"
   ]
  },
  {
   "cell_type": "markdown",
   "metadata": {
    "id": "GfnhpHbSDSXU"
   },
   "source": [
    "**B) ONE HOT ENCODING**"
   ]
  },
  {
   "cell_type": "code",
   "execution_count": 28,
   "metadata": {},
   "outputs": [],
   "source": [
    "# One-hot encode the categorical columns in 'X' excluding 'Pressure' columns\n",
    "X = pd.get_dummies(X, columns=['Location', 'WindGustDir', 'WindDir9am', 'WindDir3pm','Cloud9am_Binned','Cloud3pm_Binned'])"
   ]
  },
  {
   "cell_type": "code",
   "execution_count": 29,
   "metadata": {},
   "outputs": [],
   "source": [
    "from sklearn.preprocessing import OrdinalEncoder\n",
    "\n",
    "# Create the encoder\n",
    "encoder = OrdinalEncoder(categories=[['LOW', 'MED', 'HIGH'],['LOW', 'MED', 'HIGH']])   # specify the order of categories\n",
    "\n",
    "# Apply the encoder to 'Pressure9am' and 'Pressure3pm'\n",
    "X.loc[:, ['Pressure9am', 'Pressure3pm']] = encoder.fit_transform(X.loc[:, ['Pressure9am', 'Pressure3pm']])\n"
   ]
  },
  {
   "cell_type": "code",
   "execution_count": 30,
   "metadata": {
    "colab": {
     "base_uri": "https://localhost:8080/"
    },
    "id": "dKDRVvoG84T2",
    "outputId": "c65b0d50-9001-4dfb-fb10-2f69d6d03be4"
   },
   "outputs": [
    {
     "name": "stdout",
     "output_type": "stream",
     "text": [
      "      Rainfall Evaporation WindSpeed9am WindSpeed3pm Humidity9am Humidity3pm  \\\n",
      "0          0.0         7.0         15.0         19.0        60.0        54.0   \n",
      "1          0.0         8.4         13.0         28.0        60.0        56.0   \n",
      "2          0.0         7.6         19.0         19.0        66.0        13.0   \n",
      "3          0.0         7.2          9.0         13.0        51.0        53.0   \n",
      "4          5.6         7.0         13.0         19.0        68.0        64.0   \n",
      "...        ...         ...          ...          ...         ...         ...   \n",
      "11809      0.0         4.0         13.0         17.0        65.0        47.0   \n",
      "11810      3.0         4.4          6.0         17.0        89.0        51.0   \n",
      "11811      0.4         1.6          0.0         13.0        92.0        66.0   \n",
      "11812      0.0         7.4          4.0          9.0        57.0        48.0   \n",
      "11813      4.4         4.4         13.0          9.0        68.0        52.0   \n",
      "\n",
      "       Pressure9am  Pressure3pm AverageTemp  Year  ... WindDir3pm_WNW  \\\n",
      "0              1.0          1.0        33.4  2009  ...              0   \n",
      "1              1.0          0.0        35.4  2014  ...              0   \n",
      "2              1.0          1.0        32.8  2008  ...              0   \n",
      "3              2.0          1.0        31.4  2015  ...              0   \n",
      "4              1.0          1.0        35.4  2013  ...              0   \n",
      "...            ...          ...         ...   ...  ...            ...   \n",
      "11809          1.0          1.0        29.4  2014  ...              1   \n",
      "11810          2.0          2.0        29.2  2011  ...              0   \n",
      "11811          1.0          1.0        29.3  2015  ...              0   \n",
      "11812          0.0          0.0        31.3  2016  ...              0   \n",
      "11813          2.0          2.0        30.5  2011  ...              0   \n",
      "\n",
      "      WindDir3pm_WSW  Cloud9am_Binned_Clear  Cloud9am_Binned_Cloudy  \\\n",
      "0                  0                      0                       0   \n",
      "1                  0                      1                       0   \n",
      "2                  0                      1                       0   \n",
      "3                  0                      1                       0   \n",
      "4                  0                      0                       1   \n",
      "...              ...                    ...                     ...   \n",
      "11809              0                      0                       0   \n",
      "11810              0                      0                       0   \n",
      "11811              0                      0                       0   \n",
      "11812              0                      0                       1   \n",
      "11813              0                      0                       0   \n",
      "\n",
      "       Cloud9am_Binned_Overcast  Cloud9am_Binned_Partly Cloudy  \\\n",
      "0                             0                              1   \n",
      "1                             0                              0   \n",
      "2                             0                              0   \n",
      "3                             0                              0   \n",
      "4                             0                              0   \n",
      "...                         ...                            ...   \n",
      "11809                         0                              1   \n",
      "11810                         1                              0   \n",
      "11811                         0                              1   \n",
      "11812                         0                              0   \n",
      "11813                         0                              1   \n",
      "\n",
      "       Cloud3pm_Binned_Clear  Cloud3pm_Binned_Cloudy  \\\n",
      "0                          0                       0   \n",
      "1                          1                       0   \n",
      "2                          1                       0   \n",
      "3                          1                       0   \n",
      "4                          0                       0   \n",
      "...                      ...                     ...   \n",
      "11809                      1                       0   \n",
      "11810                      0                       1   \n",
      "11811                      0                       0   \n",
      "11812                      0                       0   \n",
      "11813                      1                       0   \n",
      "\n",
      "       Cloud3pm_Binned_Overcast  Cloud3pm_Binned_Partly Cloudy  \n",
      "0                             0                              1  \n",
      "1                             0                              0  \n",
      "2                             0                              0  \n",
      "3                             0                              0  \n",
      "4                             0                              1  \n",
      "...                         ...                            ...  \n",
      "11809                         0                              0  \n",
      "11810                         0                              0  \n",
      "11811                         0                              1  \n",
      "11812                         1                              0  \n",
      "11813                         0                              0  \n",
      "\n",
      "[11814 rows x 74 columns]\n"
     ]
    }
   ],
   "source": [
    "print(X)"
   ]
  },
  {
   "cell_type": "code",
   "execution_count": 31,
   "metadata": {
    "colab": {
     "base_uri": "https://localhost:8080/"
    },
    "id": "CsSHnOlVeHQb",
    "outputId": "1701a80a-4c51-49e7-ae04-e7df3cff72bf"
   },
   "outputs": [],
   "source": [
    "# Convert to NumPy array and reshape to 2D\n",
    "Y = Y.to_numpy().reshape(-1, 1)"
   ]
  },
  {
   "cell_type": "markdown",
   "metadata": {
    "id": "NRqyaMv59cSb"
   },
   "source": [
    "**C) FEATURE SCALING**\n",
    "\n",
    "\n",
    "\n"
   ]
  },
  {
   "cell_type": "code",
   "execution_count": 32,
   "metadata": {
    "id": "4qUKRLdT9b8k"
   },
   "outputs": [],
   "source": [
    "from sklearn.preprocessing import StandardScaler\n",
    "sc = StandardScaler()\n",
    "X = sc.fit_transform(X)"
   ]
  },
  {
   "cell_type": "code",
   "execution_count": 33,
   "metadata": {
    "id": "jJnMIdK2PQxd"
   },
   "outputs": [],
   "source": [
    "# !pip install -U imbalanced-learn"
   ]
  },
  {
   "cell_type": "markdown",
   "metadata": {
    "id": "vErSDB6uQiQU"
   },
   "source": [
    "**D) Handling Imbalanced Data**"
   ]
  },
  {
   "cell_type": "code",
   "execution_count": 34,
   "metadata": {
    "colab": {
     "base_uri": "https://localhost:8080/"
    },
    "id": "WLsy8VYKXAwc",
    "outputId": "2a8a52ac-6dc8-46f6-8dcb-fcd4cf4158b2"
   },
   "outputs": [
    {
     "name": "stdout",
     "output_type": "stream",
     "text": [
      "RainTomorrow_MM :\n",
      " 0    9033\n",
      "1    2781\n",
      "Name: RainTomorrow_MM, dtype: int64\n"
     ]
    }
   ],
   "source": [
    "# Count 'yes' and 'no' occurrences for dependent parameter\n",
    "counts = data['RainTomorrow_MM'].value_counts()\n",
    "print(\"RainTomorrow_MM :\\n\", counts)"
   ]
  },
  {
   "cell_type": "markdown",
   "metadata": {},
   "source": [
    "**D.1) Create synthetic imbalanced dataset**"
   ]
  },
  {
   "cell_type": "code",
   "execution_count": 35,
   "metadata": {},
   "outputs": [
    {
     "name": "stdout",
     "output_type": "stream",
     "text": [
      "Number of samples in X: 11814\n",
      "Number of samples in Y: 11814\n"
     ]
    }
   ],
   "source": [
    "from sklearn.datasets import make_classification\n",
    "\n",
    "# Print number of samples\n",
    "print(\"Number of samples in X:\", X.shape[0])\n",
    "print(\"Number of samples in Y:\", Y.shape[0])\n",
    "\n",
    "# Generate a synthetic imbalanced dataset\n",
    "X, y = make_classification(n_samples=11814, n_features=10, weights=[0.95, 0.05], random_state=42)"
   ]
  },
  {
   "cell_type": "markdown",
   "metadata": {
    "id": "W4nkGZ4gF4Yg"
   },
   "source": [
    "**E) Data Splitting**"
   ]
  },
  {
   "cell_type": "code",
   "execution_count": 36,
   "metadata": {
    "id": "_sLWpbfL84FB"
   },
   "outputs": [],
   "source": [
    "from sklearn.model_selection import train_test_split\n",
    "\n",
    "# Split the dataset into training and testing sets\n",
    "X_train, X_test, y_train, y_test = train_test_split(X, y, test_size=0.2, random_state=42)\n"
   ]
  },
  {
   "cell_type": "code",
   "execution_count": 37,
   "metadata": {
    "id": "tTcQGIeW838R"
   },
   "outputs": [],
   "source": [
    "from sklearn.metrics import classification_report, confusion_matrix, accuracy_score"
   ]
  },
  {
   "cell_type": "code",
   "execution_count": 38,
   "metadata": {},
   "outputs": [
    {
     "name": "stdout",
     "output_type": "stream",
     "text": [
      "Class distribution after ADASYN:\n",
      "{0: 8932, 1: 8853}\n"
     ]
    }
   ],
   "source": [
    "from imblearn.over_sampling import ADASYN\n",
    "\n",
    "# Apply ADASYN to oversample the minority class\n",
    "adasyn = ADASYN(random_state=42)\n",
    "X_train_resampled, y_train_resampled = adasyn.fit_resample(X_train, y_train)\n",
    "\n",
    "# Check the class distribution after oversampling\n",
    "print(\"Class distribution after ADASYN:\")\n",
    "unique, counts = np.unique(y_train_resampled, return_counts=True)\n",
    "print(dict(zip(unique, counts)))\n"
   ]
  },
  {
   "cell_type": "markdown",
   "metadata": {},
   "source": [
    "**F) Evaluation Metrics**"
   ]
  },
  {
   "cell_type": "markdown",
   "metadata": {},
   "source": [
    "**Ensemble classifier**"
   ]
  },
  {
   "cell_type": "code",
   "execution_count": 47,
   "metadata": {},
   "outputs": [
    {
     "data": {
      "text/plain": [
       "'\\nfrom sklearn.neighbors import KNeighborsClassifier\\nfrom sklearn.ensemble import RandomForestClassifier\\nfrom sklearn.svm import SVC\\nfrom sklearn.ensemble import GradientBoostingClassifier\\nfrom sklearn.tree import DecisionTreeClassifier\\nfrom sklearn.ensemble import AdaBoostClassifier\\nfrom sklearn.ensemble import VotingClassifier\\n\\n# List of models\\nmodels = [\\n    (\"KNN\", KNeighborsClassifier()),\\n    (\"RandomForest\", RandomForestClassifier()),\\n    (\"SupportVector\",SVC()),\\n    (\"GradientBoosting\", GradientBoostingClassifier()),\\n    (\"DecisionTree\", DecisionTreeClassifier()),\\n    (\"AdaBoost\", AdaBoostClassifier()) \\n    \\n]\\n\\n# Create the ensemble classifier using VotingClassifier\\nensemble_classifier = VotingClassifier(\\n    estimators=models\\n)\\n\\n# Train the ensemble classifier\\nensemble_classifier.fit(X_train, y_train)\\n\\n# Make predictions using the ensemble classifier\\ny_pred_ensemble = ensemble_classifier.predict(X_test)\\n\\n# Evaluate the performance of the ensemble classifier\\naccuracy_ensemble = accuracy_score(y_test, y_pred_ensemble)\\nclassification_report_ensemble = classification_report(y_test, y_pred_ensemble)\\n\\n# Print the evaluation results for the ensemble classifier\\nprint(\"Ensemble Classifier Evaluation:\")\\nprint(f\"Accuracy: {accuracy_ensemble:.2f}\")\\nprint(\"Classification Report:\")\\nprint(classification_report_ensemble)\\n\\n# Perform individual model evaluation\\nfor name, classifier in ensemble_classifier.named_estimators_.items():\\n    y_pred_individual = classifier.predict(X_test)\\n    accuracy_individual = accuracy_score(y_test, y_pred_individual)\\n    classification_report_individual = classification_report(y_test, y_pred_individual)\\n    \\n    # Print the evaluation results for each individual model\\n    print(f\"\\nIndividual Model: {name}\")\\n    print(f\"Accuracy: {accuracy_individual:.2f}\")\\n    print(\"Classification Report:\")\\n    print(classification_report_individual)\\n'"
      ]
     },
     "execution_count": 47,
     "metadata": {},
     "output_type": "execute_result"
    }
   ],
   "source": [
    "'''\n",
    "from sklearn.neighbors import KNeighborsClassifier\n",
    "from sklearn.ensemble import RandomForestClassifier\n",
    "from sklearn.svm import SVC\n",
    "from sklearn.ensemble import GradientBoostingClassifier\n",
    "from sklearn.tree import DecisionTreeClassifier\n",
    "from sklearn.ensemble import AdaBoostClassifier\n",
    "from sklearn.ensemble import VotingClassifier\n",
    "\n",
    "# List of models\n",
    "models = [\n",
    "    (\"KNN\", KNeighborsClassifier()),\n",
    "    (\"RandomForest\", RandomForestClassifier()),\n",
    "    (\"SupportVector\",SVC()),\n",
    "    (\"GradientBoosting\", GradientBoostingClassifier()),\n",
    "    (\"DecisionTree\", DecisionTreeClassifier()),\n",
    "    (\"AdaBoost\", AdaBoostClassifier()) \n",
    "    \n",
    "]\n",
    "\n",
    "# Create the ensemble classifier using VotingClassifier\n",
    "ensemble_classifier = VotingClassifier(\n",
    "    estimators=models\n",
    ")\n",
    "\n",
    "# Train the ensemble classifier\n",
    "ensemble_classifier.fit(X_train, y_train)\n",
    "\n",
    "# Make predictions using the ensemble classifier\n",
    "y_pred_ensemble = ensemble_classifier.predict(X_test)\n",
    "\n",
    "# Evaluate the performance of the ensemble classifier\n",
    "accuracy_ensemble = accuracy_score(y_test, y_pred_ensemble)\n",
    "classification_report_ensemble = classification_report(y_test, y_pred_ensemble)\n",
    "\n",
    "# Print the evaluation results for the ensemble classifier\n",
    "print(\"Ensemble Classifier Evaluation:\")\n",
    "print(f\"Accuracy: {accuracy_ensemble:.2f}\")\n",
    "print(\"Classification Report:\")\n",
    "print(classification_report_ensemble)\n",
    "\n",
    "# Perform individual model evaluation\n",
    "for name, classifier in ensemble_classifier.named_estimators_.items():\n",
    "    y_pred_individual = classifier.predict(X_test)\n",
    "    accuracy_individual = accuracy_score(y_test, y_pred_individual)\n",
    "    classification_report_individual = classification_report(y_test, y_pred_individual)\n",
    "    \n",
    "    # Print the evaluation results for each individual model\n",
    "    print(f\"\\nIndividual Model: {name}\")\n",
    "    print(f\"Accuracy: {accuracy_individual:.2f}\")\n",
    "    print(\"Classification Report:\")\n",
    "    print(classification_report_individual)\n",
    "'''\n"
   ]
  },
  {
   "cell_type": "code",
   "execution_count": 48,
   "metadata": {},
   "outputs": [
    {
     "name": "stdout",
     "output_type": "stream",
     "text": [
      "Fitting 5 folds for each of 50 candidates, totalling 250 fits\n",
      "Best Parameters for KNN: {'weights': 'distance', 'p': 1, 'n_neighbors': 6}\n",
      "Fitting 5 folds for each of 50 candidates, totalling 250 fits\n",
      "Best Parameters for RandomForest: {'n_estimators': 200, 'min_samples_split': 5, 'min_samples_leaf': 1, 'max_depth': 30}\n",
      "Fitting 5 folds for each of 24 candidates, totalling 120 fits\n"
     ]
    },
    {
     "name": "stderr",
     "output_type": "stream",
     "text": [
      "C:\\Users\\thedi\\AppData\\Local\\Programs\\Python\\Python38\\lib\\site-packages\\sklearn\\model_selection\\_search.py:285: UserWarning: The total space of parameters 24 is smaller than n_iter=50. Running 24 iterations. For exhaustive searches, use GridSearchCV.\n",
      "  warnings.warn(\n"
     ]
    },
    {
     "name": "stdout",
     "output_type": "stream",
     "text": [
      "Best Parameters for SupportVector: {'kernel': 'rbf', 'gamma': 'scale', 'C': 10}\n",
      "Fitting 5 folds for each of 50 candidates, totalling 250 fits\n",
      "Best Parameters for GradientBoosting: {'n_estimators': 200, 'max_depth': 9, 'learning_rate': 0.5}\n",
      "Fitting 5 folds for each of 50 candidates, totalling 250 fits\n",
      "Best Parameters for DecisionTree: {'min_samples_split': 6, 'min_samples_leaf': 6, 'max_depth': 10}\n",
      "Fitting 5 folds for each of 20 candidates, totalling 100 fits\n"
     ]
    },
    {
     "name": "stderr",
     "output_type": "stream",
     "text": [
      "C:\\Users\\thedi\\AppData\\Local\\Programs\\Python\\Python38\\lib\\site-packages\\sklearn\\model_selection\\_search.py:285: UserWarning: The total space of parameters 20 is smaller than n_iter=50. Running 20 iterations. For exhaustive searches, use GridSearchCV.\n",
      "  warnings.warn(\n"
     ]
    },
    {
     "name": "stdout",
     "output_type": "stream",
     "text": [
      "Best Parameters for AdaBoost: {'n_estimators': 200, 'learning_rate': 0.5}\n",
      "Ensemble Classifier Evaluation:\n",
      "Accuracy: 0.99\n",
      "Classification Report:\n",
      "              precision    recall  f1-score   support\n",
      "\n",
      "           0       0.99      1.00      0.99      2219\n",
      "           1       1.00      0.82      0.90       144\n",
      "\n",
      "    accuracy                           0.99      2363\n",
      "   macro avg       0.99      0.91      0.95      2363\n",
      "weighted avg       0.99      0.99      0.99      2363\n",
      "\n",
      "\n",
      "Individual Model: KNN\n",
      "Accuracy: 0.98\n",
      "Classification Report:\n",
      "              precision    recall  f1-score   support\n",
      "\n",
      "           0       0.98      1.00      0.99      2219\n",
      "           1       1.00      0.73      0.84       144\n",
      "\n",
      "    accuracy                           0.98      2363\n",
      "   macro avg       0.99      0.86      0.92      2363\n",
      "weighted avg       0.98      0.98      0.98      2363\n",
      "\n",
      "\n",
      "Individual Model: RandomForest\n",
      "Accuracy: 0.99\n",
      "Classification Report:\n",
      "              precision    recall  f1-score   support\n",
      "\n",
      "           0       0.99      1.00      0.99      2219\n",
      "           1       1.00      0.84      0.91       144\n",
      "\n",
      "    accuracy                           0.99      2363\n",
      "   macro avg       0.99      0.92      0.95      2363\n",
      "weighted avg       0.99      0.99      0.99      2363\n",
      "\n",
      "\n",
      "Individual Model: SupportVector\n",
      "Accuracy: 0.99\n",
      "Classification Report:\n",
      "              precision    recall  f1-score   support\n",
      "\n",
      "           0       0.99      1.00      0.99      2219\n",
      "           1       1.00      0.81      0.89       144\n",
      "\n",
      "    accuracy                           0.99      2363\n",
      "   macro avg       0.99      0.90      0.94      2363\n",
      "weighted avg       0.99      0.99      0.99      2363\n",
      "\n",
      "\n",
      "Individual Model: GradientBoosting\n",
      "Accuracy: 0.99\n",
      "Classification Report:\n",
      "              precision    recall  f1-score   support\n",
      "\n",
      "           0       0.99      1.00      0.99      2219\n",
      "           1       0.99      0.84      0.91       144\n",
      "\n",
      "    accuracy                           0.99      2363\n",
      "   macro avg       0.99      0.92      0.95      2363\n",
      "weighted avg       0.99      0.99      0.99      2363\n",
      "\n",
      "\n",
      "Individual Model: DecisionTree\n",
      "Accuracy: 0.99\n",
      "Classification Report:\n",
      "              precision    recall  f1-score   support\n",
      "\n",
      "           0       0.99      1.00      0.99      2219\n",
      "           1       0.98      0.84      0.91       144\n",
      "\n",
      "    accuracy                           0.99      2363\n",
      "   macro avg       0.99      0.92      0.95      2363\n",
      "weighted avg       0.99      0.99      0.99      2363\n",
      "\n",
      "\n",
      "Individual Model: AdaBoost\n",
      "Accuracy: 0.99\n",
      "Classification Report:\n",
      "              precision    recall  f1-score   support\n",
      "\n",
      "           0       0.99      1.00      0.99      2219\n",
      "           1       1.00      0.80      0.89       144\n",
      "\n",
      "    accuracy                           0.99      2363\n",
      "   macro avg       0.99      0.90      0.94      2363\n",
      "weighted avg       0.99      0.99      0.99      2363\n",
      "\n"
     ]
    }
   ],
   "source": [
    "from sklearn.model_selection import RandomizedSearchCV\n",
    "from sklearn.neighbors import KNeighborsClassifier\n",
    "from sklearn.ensemble import RandomForestClassifier\n",
    "from sklearn.svm import SVC\n",
    "from sklearn.ensemble import GradientBoostingClassifier\n",
    "from sklearn.tree import DecisionTreeClassifier\n",
    "from sklearn.ensemble import AdaBoostClassifier\n",
    "from sklearn.ensemble import VotingClassifier\n",
    "\n",
    "# Dictionary for classifiers (models)\n",
    "model_objs = {\n",
    "    'KNN': KNeighborsClassifier(),\n",
    "    'RandomForest': RandomForestClassifier(),\n",
    "    'SupportVector': SVC(),\n",
    "    'GradientBoosting': GradientBoostingClassifier(),\n",
    "    'DecisionTree': DecisionTreeClassifier(),\n",
    "    'AdaBoost': AdaBoostClassifier()\n",
    "}\n",
    "\n",
    "\n",
    "# Define hyperparameters for each classifier\n",
    "param_distributions = {\n",
    "    'KNN': {\n",
    "        'n_neighbors': np.arange(1, 31),\n",
    "        'weights': ['uniform', 'distance'],\n",
    "        'p': [1, 2]  # L1 and L2 distance\n",
    "    },\n",
    "    'RandomForest': {\n",
    "        'n_estimators': [50, 100, 150, 200],\n",
    "        'max_depth': [None, 10, 20, 30, 40],\n",
    "        'min_samples_split': np.arange(2, 11),\n",
    "        'min_samples_leaf': np.arange(1, 11)\n",
    "    },\n",
    "    'SupportVector': {\n",
    "        'C': [0.1, 1, 10, 100],\n",
    "        'kernel': ['linear', 'rbf', 'sigmoid'],\n",
    "        'gamma': ['scale', 'auto']\n",
    "    },\n",
    "    'GradientBoosting': {\n",
    "        'n_estimators': [50, 100, 150, 200],\n",
    "        'learning_rate': [0.01, 0.05, 0.1, 0.5, 1],\n",
    "        'max_depth': [3, 5, 7, 9]\n",
    "    },\n",
    "    'DecisionTree': {\n",
    "        'max_depth': [None, 10, 20, 30, 40],\n",
    "        'min_samples_split': np.arange(2, 11),\n",
    "        'min_samples_leaf': np.arange(1, 11)\n",
    "    },\n",
    "    'AdaBoost': {\n",
    "        'n_estimators': [50, 100, 150, 200],\n",
    "        'learning_rate': [0.01, 0.05, 0.1, 0.5, 1]\n",
    "    }\n",
    "}\n",
    "\n",
    "    \n",
    "    \n",
    "# Find best params for each model and train them with it\n",
    "trained_models = []\n",
    "for name, classifier in model_objs.items():\n",
    "    randomized_search = RandomizedSearchCV(classifier, param_distributions=param_distributions[name], \n",
    "                                           n_iter=50, scoring='accuracy', cv=5, n_jobs=-1, verbose=1)\n",
    "    randomized_search.fit(X_train, y_train)\n",
    "    \n",
    "    # Update the classifier with best params and train it\n",
    "    classifier.set_params(**randomized_search.best_params_)\n",
    "    classifier.fit(X_train, y_train)\n",
    "    \n",
    "    trained_models.append((name, classifier))\n",
    "    \n",
    "    print(f\"Best Parameters for {name}: {randomized_search.best_params_}\")\n",
    "\n",
    "\n",
    "# Create the ensemble classifier using VotingClassifier\n",
    "ensemble_classifier = VotingClassifier(\n",
    "    estimators=trained_models\n",
    ")\n",
    "\n",
    "# Train the ensemble classifier\n",
    "ensemble_classifier.fit(X_train, y_train)\n",
    "\n",
    "# Make predictions using the ensemble classifier\n",
    "y_pred_ensemble = ensemble_classifier.predict(X_test)\n",
    "\n",
    "# Evaluate the performance of the ensemble classifier\n",
    "accuracy_ensemble = accuracy_score(y_test, y_pred_ensemble)\n",
    "classification_report_ensemble = classification_report(y_test, y_pred_ensemble)\n",
    "\n",
    "# Print the evaluation results for the ensemble classifier\n",
    "print(\"Ensemble Classifier Evaluation:\")\n",
    "print(f\"Accuracy: {accuracy_ensemble:.2f}\")\n",
    "print(\"Classification Report:\")\n",
    "print(classification_report_ensemble)\n",
    "\n",
    "# Perform individual model evaluation\n",
    "for name, classifier in ensemble_classifier.named_estimators_.items():\n",
    "    y_pred_individual = classifier.predict(X_test)\n",
    "    accuracy_individual = accuracy_score(y_test, y_pred_individual)\n",
    "    classification_report_individual = classification_report(y_test, y_pred_individual)\n",
    "    \n",
    "    # Print the evaluation results for each individual model\n",
    "    print(f\"\\nIndividual Model: {name}\")\n",
    "    print(f\"Accuracy: {accuracy_individual:.2f}\")\n",
    "    print(\"Classification Report:\")\n",
    "    print(classification_report_individual)\n",
    "\n",
    "\n",
    "\n"
   ]
  },
  {
   "cell_type": "markdown",
   "metadata": {},
   "source": [
    "**Cross Validation**"
   ]
  },
  {
   "cell_type": "code",
   "execution_count": 49,
   "metadata": {},
   "outputs": [
    {
     "name": "stdout",
     "output_type": "stream",
     "text": [
      "KNN - Cross-validation scores: [0.93029792 0.91455874 0.93029792 0.96121417 0.92692524 0.93025872\n",
      " 0.91901012 0.94375703 0.95725534 0.94094488]\n",
      "KNN - Average cross-validation score: 0.9354520082122955\n",
      "\n",
      "RandomForest - Cross-validation scores: [0.94266442 0.92467678 0.90612704 0.9668353  0.9584036  0.94488189\n",
      " 0.92463442 0.95950506 0.96512936 0.94713161]\n",
      "RandomForest - Average cross-validation score: 0.9439989478549583\n",
      "\n",
      "SupportVector - Cross-validation scores: [0.871276   0.88982574 0.82630691 0.90893761 0.91062395 0.90044994\n",
      " 0.86782902 0.9071991  0.92463442 0.89988751]\n",
      "SupportVector - Average cross-validation score: 0.8906970207982011\n",
      "\n",
      "GradientBoosting - Cross-validation scores: [0.88026981 0.89938168 0.81618887 0.88308038 0.91568297 0.86445444\n",
      " 0.84983127 0.90944882 0.86164229 0.88863892]\n",
      "GradientBoosting - Average cross-validation score: 0.8768619457980906\n",
      "\n",
      "DecisionTree - Cross-validation scores: [0.89994379 0.90949972 0.89432265 0.9336706  0.94097808 0.91957255\n",
      " 0.90438695 0.94150731 0.92575928 0.91169854]\n",
      "DecisionTree - Average cross-validation score: 0.9181339474218337\n",
      "\n",
      "AdaBoost - Cross-validation scores: [0.84710512 0.87071388 0.8257448  0.85553682 0.88757729 0.84139483\n",
      " 0.80652418 0.87626547 0.82845894 0.85151856]\n",
      "AdaBoost - Average cross-validation score: 0.8490839888690136\n",
      "\n"
     ]
    }
   ],
   "source": [
    "from sklearn.model_selection import cross_val_score\n",
    "\n",
    "# List of models \n",
    "models = [\n",
    "    (\"KNN\", KNeighborsClassifier()),\n",
    "    (\"RandomForest\", RandomForestClassifier()),\n",
    "    (\"SupportVector\",SVC()),\n",
    "    (\"GradientBoosting\", GradientBoostingClassifier()),\n",
    "    (\"DecisionTree\", DecisionTreeClassifier()),\n",
    "    (\"AdaBoost\", AdaBoostClassifier()) \n",
    "    \n",
    "]\n",
    "\n",
    "# Loop through each model, train using cross-validation, and print results\n",
    "for name, model in models:\n",
    "    scores = cross_val_score(model, X_train_resampled, y_train_resampled, cv=10)\n",
    "    print(f\"{name} - Cross-validation scores: {scores}\")\n",
    "    print(f\"{name} - Average cross-validation score: {scores.mean()}\\n\")"
   ]
  },
  {
   "cell_type": "markdown",
   "metadata": {},
   "source": [
    "**Area under the curve score**"
   ]
  },
  {
   "cell_type": "code",
   "execution_count": 50,
   "metadata": {},
   "outputs": [
    {
     "name": "stdout",
     "output_type": "stream",
     "text": [
      "KNN - Auroc: 0.9119082043963748\n",
      "RandomForest - Auroc: 0.9209134495017777\n",
      "SupportVector - Auroc: 0.9128987031195233\n",
      "GradientBoosting - Auroc: 0.9111618096239548\n",
      "DecisionTree - Auroc: 0.8995011516699215\n",
      "AdaBoost - Auroc: 0.9134917505382805\n"
     ]
    }
   ],
   "source": [
    "from sklearn.metrics import roc_auc_score\n",
    "\n",
    "# List of models\n",
    "models = [\n",
    "    (\"KNN\", KNeighborsClassifier()),\n",
    "    (\"RandomForest\", RandomForestClassifier()),\n",
    "    (\"SupportVector\", SVC(probability=True)),\n",
    "    (\"GradientBoosting\", GradientBoostingClassifier()),\n",
    "    (\"DecisionTree\", DecisionTreeClassifier()),\n",
    "    (\"AdaBoost\", AdaBoostClassifier()) \n",
    "    \n",
    "]\n",
    "\n",
    "\n",
    "# Loop through each model,Instantiate and fit the model. \n",
    "for name, model in models:\n",
    "    model.fit(X_train_resampled, y_train_resampled)\n",
    "    \n",
    "    # Predict the probabilities of the test data\n",
    "    y_pred_prob = model.predict_proba(X_test)[:, 1]\n",
    "    \n",
    "    # Calculate AUROC\n",
    "    auroc = roc_auc_score(y_test, y_pred_prob)\n",
    "    \n",
    "    print(f\"{name} - Auroc: {auroc}\")\n",
    " \n"
   ]
  },
  {
   "cell_type": "markdown",
   "metadata": {},
   "source": [
    "**Confusion matrix chart**"
   ]
  },
  {
   "cell_type": "code",
   "execution_count": 51,
   "metadata": {},
   "outputs": [
    {
     "name": "stdout",
     "output_type": "stream",
     "text": [
      "Ensemble Classifier Confusion matrix, without normalization\n",
      "[[2219    0]\n",
      " [  26  118]]\n",
      "Ensemble Classifier Normalized confusion matrix\n",
      "[[1.         0.        ]\n",
      " [0.18055556 0.81944444]]\n"
     ]
    },
    {
     "data": {
      "image/png": "[encoded data removed]",
      "text/plain": [
       "<Figure size 720x720 with 2 Axes>"
      ]
     },
     "metadata": {
      "needs_background": "light"
     },
     "output_type": "display_data"
    },
    {
     "data": {
      "image/png": "[encoded data removed]",
      "text/plain": [
       "<Figure size 720x720 with 2 Axes>"
      ]
     },
     "metadata": {
      "needs_background": "light"
     },
     "output_type": "display_data"
    }
   ],
   "source": [
    "from sklearn.metrics import confusion_matrix, ConfusionMatrixDisplay\n",
    "\n",
    "class_names = np.unique(y_test)\n",
    "\n",
    "titles_options = [\n",
    "    (\"Ensemble Classifier Confusion matrix, without normalization\", None),\n",
    "    (\"Ensemble Classifier Normalized confusion matrix\", \"true\"),\n",
    "]\n",
    "\n",
    "# Predict using  classifier\n",
    "y_pred = ensemble_classifier.predict(X_test)\n",
    "\n",
    "# Compute the confusion matrix\n",
    "cm = confusion_matrix(y_test, y_pred)\n",
    "\n",
    "for title, normalize in titles_options:\n",
    "    fig, ax = plt.subplots(figsize=(10, 10))\n",
    "    \n",
    "    if normalize == \"true\":\n",
    "        cm_display = cm.astype('float') / cm.sum(axis=1)[:, np.newaxis]\n",
    "    else:\n",
    "        cm_display = cm\n",
    "    \n",
    "    disp = ConfusionMatrixDisplay(confusion_matrix=cm_display, display_labels=class_names)\n",
    "    disp.plot(cmap=plt.cm.Blues, ax=ax)\n",
    "    \n",
    "    ax.set_title(title)\n",
    "    ax.grid(False)\n",
    "\n",
    "    print(title)\n",
    "    print(cm_display)\n",
    "\n"
   ]
  },
  {
   "cell_type": "markdown",
   "metadata": {},
   "source": []
  },
  {
   "cell_type": "code",
   "execution_count": null,
   "metadata": {},
   "outputs": [],
   "source": []
  }
 ],
 "metadata": {
  "colab": {
   "provenance": []
  },
  "kernelspec": {
   "display_name": "Python 3 (ipykernel)",
   "language": "python",
   "name": "python3"
  },
  "language_info": {
   "codemirror_mode": {
    "name": "ipython",
    "version": 3
   },
   "file_extension": ".py",
   "mimetype": "text/x-python",
   "name": "python",
   "nbconvert_exporter": "python",
   "pygments_lexer": "ipython3",
   "version": "3.8.8"
  }
 },
 "nbformat": 4,
 "nbformat_minor": 1
}
